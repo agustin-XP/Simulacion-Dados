{
 "cells": [
  {
   "cell_type": "raw",
   "metadata": {},
   "source": [
    "# Generar un modelo que permita simular el lanzamiento de dos dados y conoces la suma de los mismos."
   ]
  },
  {
   "cell_type": "markdown",
   "metadata": {},
   "source": []
  },
  {
   "cell_type": "markdown",
   "metadata": {},
   "source": [
    "Primera Libreria random"
   ]
  },
  {
   "cell_type": "code",
   "execution_count": 1,
   "metadata": {},
   "outputs": [],
   "source": [
    "from random import randint, uniform,random\n",
    "import numpy as np\n",
    "lista=[]\n",
    "estado=[]\n",
    "def lanzardados(valor):\n",
    "    \n",
    "    for i in range(0,valor):\n",
    "        ##print(randint(1,6))\n",
    "        \n",
    "        lista.append(randint(1,6)+randint(1,6))\n",
    "\n",
    "def estadisticas(valor):\n",
    "    print(\"SUMA   Frecuencia    Probabilidad\")\n",
    " \n",
    "    for i in range(2,13):\n",
    "        estado.append(lista.count(i)/valor)\n",
    "        print(i,\"      \", lista.count(i),\"         \", lista.count(i)/valor)\n",
    "        "
   ]
  },
  {
   "cell_type": "markdown",
   "metadata": {},
   "source": [
    "Lanzando 100 dados"
   ]
  },
  {
   "cell_type": "code",
   "execution_count": 2,
   "metadata": {},
   "outputs": [
    {
     "name": "stdout",
     "output_type": "stream",
     "text": [
      "SUMA   Frecuencia    Probabilidad\n",
      "2        3           0.03\n",
      "3        4           0.04\n",
      "4        5           0.05\n",
      "5        7           0.07\n",
      "6        17           0.17\n",
      "7        18           0.18\n",
      "8        17           0.17\n",
      "9        11           0.11\n",
      "10        11           0.11\n",
      "11        4           0.04\n",
      "12        3           0.03\n",
      "1.0\n"
     ]
    }
   ],
   "source": [
    "lanzardados(100)\n",
    "estadisticas(100)\n",
    "print(sum(estado))\n",
    "lista=[]\n",
    "estado=[]\n"
   ]
  },
  {
   "cell_type": "markdown",
   "metadata": {},
   "source": [
    "Lanzando 1000 dados"
   ]
  },
  {
   "cell_type": "code",
   "execution_count": 3,
   "metadata": {},
   "outputs": [
    {
     "name": "stdout",
     "output_type": "stream",
     "text": [
      "SUMA   Frecuencia    Probabilidad\n",
      "2        30           0.03\n",
      "3        57           0.057\n",
      "4        86           0.086\n",
      "5        112           0.112\n",
      "6        147           0.147\n",
      "7        149           0.149\n",
      "8        130           0.13\n",
      "9        130           0.13\n",
      "10        83           0.083\n",
      "11        54           0.054\n",
      "12        22           0.022\n",
      "1.0\n"
     ]
    }
   ],
   "source": [
    "lanzardados(1000)\n",
    "estadisticas(1000)\n",
    "print(sum(estado))\n",
    "lista=[]\n",
    "estado=[]"
   ]
  },
  {
   "cell_type": "markdown",
   "metadata": {},
   "source": [
    "Lanzando 10000 dados"
   ]
  },
  {
   "cell_type": "code",
   "execution_count": 4,
   "metadata": {
    "scrolled": true
   },
   "outputs": [
    {
     "name": "stdout",
     "output_type": "stream",
     "text": [
      "SUMA   Frecuencia    Probabilidad\n",
      "2        260           0.026\n",
      "3        573           0.0573\n",
      "4        811           0.0811\n",
      "5        1110           0.111\n",
      "6        1435           0.1435\n",
      "7        1653           0.1653\n",
      "8        1397           0.1397\n",
      "9        1145           0.1145\n",
      "10        786           0.0786\n",
      "11        551           0.0551\n",
      "12        279           0.0279\n",
      "1.0\n"
     ]
    }
   ],
   "source": [
    "lanzardados(10000)\n",
    "estadisticas(10000)\n",
    "print(sum(estado))\n",
    "lista=[]\n",
    "estado=[]"
   ]
  },
  {
   "cell_type": "markdown",
   "metadata": {},
   "source": [
    "Usando la Libreria Numpy"
   ]
  },
  {
   "cell_type": "code",
   "execution_count": 5,
   "metadata": {},
   "outputs": [],
   "source": [
    "def lanzardadosNP(valor):\n",
    "    \n",
    "    for i in range(0,valor):\n",
    "        ##print(randint(1,6))\n",
    "        \n",
    "        lista.append(np.random.randint(1,7)+np.random.randint(1,7))\n",
    "\n",
    "def estadisticasNP(valor):\n",
    "    print(\"SUMA  Frecuencia    Probabilidad\")\n",
    " \n",
    "    for i in range(2,13):\n",
    "        estado.append(lista.count(i)/valor)\n",
    "        print(i,\"      \", lista.count(i),\"         \", lista.count(i)/valor)"
   ]
  },
  {
   "cell_type": "markdown",
   "metadata": {},
   "source": [
    "Lanzando 100 Dados"
   ]
  },
  {
   "cell_type": "code",
   "execution_count": 6,
   "metadata": {},
   "outputs": [
    {
     "name": "stdout",
     "output_type": "stream",
     "text": [
      "SUMA  Frecuencia    Probabilidad\n",
      "2        4           0.04\n",
      "3        8           0.08\n",
      "4        4           0.04\n",
      "5        15           0.15\n",
      "6        12           0.12\n",
      "7        16           0.16\n",
      "8        9           0.09\n",
      "9        15           0.15\n",
      "10        10           0.1\n",
      "11        3           0.03\n",
      "12        4           0.04\n",
      "1.0\n"
     ]
    }
   ],
   "source": [
    "lanzardadosNP(100)\n",
    "estadisticasNP(100)\n",
    "print(sum(estado))\n",
    "lista=[]\n",
    "estado=[]"
   ]
  },
  {
   "cell_type": "markdown",
   "metadata": {},
   "source": [
    "Lanzando 1000 Dados"
   ]
  },
  {
   "cell_type": "code",
   "execution_count": 7,
   "metadata": {},
   "outputs": [
    {
     "name": "stdout",
     "output_type": "stream",
     "text": [
      "SUMA  Frecuencia    Probabilidad\n",
      "2        40           0.04\n",
      "3        67           0.067\n",
      "4        92           0.092\n",
      "5        118           0.118\n",
      "6        132           0.132\n",
      "7        156           0.156\n",
      "8        139           0.139\n",
      "9        93           0.093\n",
      "10        86           0.086\n",
      "11        49           0.049\n",
      "12        28           0.028\n",
      "1.0\n"
     ]
    }
   ],
   "source": [
    "lanzardadosNP(1000)\n",
    "estadisticasNP(1000)\n",
    "print(sum(estado))\n",
    "lista=[]\n",
    "estado=[]"
   ]
  },
  {
   "cell_type": "markdown",
   "metadata": {},
   "source": [
    "Lanzando 10000 Dados"
   ]
  },
  {
   "cell_type": "code",
   "execution_count": 8,
   "metadata": {},
   "outputs": [
    {
     "name": "stdout",
     "output_type": "stream",
     "text": [
      "SUMA  Frecuencia    Probabilidad\n",
      "2        295           0.0295\n",
      "3        549           0.0549\n",
      "4        842           0.0842\n",
      "5        1116           0.1116\n",
      "6        1344           0.1344\n",
      "7        1639           0.1639\n",
      "8        1432           0.1432\n",
      "9        1120           0.112\n",
      "10        834           0.0834\n",
      "11        534           0.0534\n",
      "12        295           0.0295\n",
      "1.0\n"
     ]
    }
   ],
   "source": [
    "lanzardadosNP(10000)\n",
    "estadisticasNP(10000)\n",
    "print(sum(estado))"
   ]
  }
 ],
 "metadata": {
  "kernelspec": {
   "display_name": "Python 3",
   "language": "python",
   "name": "python3"
  },
  "language_info": {
   "codemirror_mode": {
    "name": "ipython",
    "version": 3
   },
   "file_extension": ".py",
   "mimetype": "text/x-python",
   "name": "python",
   "nbconvert_exporter": "python",
   "pygments_lexer": "ipython3",
   "version": "3.7.3"
  }
 },
 "nbformat": 4,
 "nbformat_minor": 4
}
