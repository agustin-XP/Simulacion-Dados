{
 "cells": [
  {
   "cell_type": "code",
   "execution_count": null,
   "metadata": {},
   "outputs": [],
   "source": []
  },
  {
   "cell_type": "markdown",
   "metadata": {},
   "source": []
  },
  {
   "cell_type": "code",
   "execution_count": 5,
   "metadata": {},
   "outputs": [
    {
     "name": "stdout",
     "output_type": "stream",
     "text": [
      "SUMA   veces    Probabilidad\n",
      "2        3        0.03\n",
      "3        6        0.06\n",
      "4        8        0.08\n",
      "5        9        0.09\n",
      "6        14        0.14\n",
      "7        17        0.17\n",
      "8        9        0.09\n",
      "9        11        0.11\n",
      "10        13        0.13\n",
      "11        5        0.05\n",
      "12        5        0.05\n",
      "1.0\n"
     ]
    }
   ],
   "source": [
    "from random import randint, uniform,random\n",
    "\n",
    "lista=[]\n",
    "estado=[]\n",
    "\n",
    "def lanzardados(valor):\n",
    "    for i in range(0,valor):\n",
    "        ##print(randint(1,6))\n",
    "        lista.append(randint(1,6)+randint(1,6))\n",
    "\n",
    "def estadisticas(valor):\n",
    "    print(\"SUMA   veces    Probabilidad\")\n",
    "\n",
    "    for i in range(2,13):\n",
    "        estado.append(lista.count(i)/valor)\n",
    "        print(i,\"      \", lista.count(i),\"      \", lista.count(i)/valor)\n",
    "\n",
    "\n",
    "\n",
    "lanzardados(100)\n",
    "estadisticas(100);\n",
    "print(sum(estado))\n",
    "\n",
    "\n",
    "\n",
    "\n"
   ]
  },
  {
   "cell_type": "code",
   "execution_count": null,
   "metadata": {},
   "outputs": [],
   "source": []
  },
  {
   "cell_type": "code",
   "execution_count": null,
   "metadata": {},
   "outputs": [],
   "source": []
  }
 ],
 "metadata": {
  "kernelspec": {
   "display_name": "Python 3",
   "language": "python",
   "name": "python3"
  },
  "language_info": {
   "codemirror_mode": {
    "name": "ipython",
    "version": 3
   },
   "file_extension": ".py",
   "mimetype": "text/x-python",
   "name": "python",
   "nbconvert_exporter": "python",
   "pygments_lexer": "ipython3",
   "version": "3.7.3"
  }
 },
 "nbformat": 4,
 "nbformat_minor": 4
}
